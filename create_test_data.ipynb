{
 "cells": [
  {
   "cell_type": "code",
   "execution_count": 1,
   "metadata": {},
   "outputs": [],
   "source": [
    "import numpy as np\n",
    "import random\n",
    "import csv\n",
    "import mido\n",
    "from mido import MidiFile\n",
    "import os\n",
    "import glob"
   ]
  },
  {
   "cell_type": "code",
   "execution_count": 15,
   "metadata": {},
   "outputs": [],
   "source": [
    "## remove any files generated previously\n",
    "\n",
    "files = glob.glob('data/*')\n",
    "for f in files:\n",
    "    os.remove(f)"
   ]
  },
  {
   "cell_type": "code",
   "execution_count": 2,
   "metadata": {},
   "outputs": [],
   "source": [
    "# the number of patterns that is being used - this should be input by the user\n",
    "num_patterns = 3"
   ]
  },
  {
   "cell_type": "code",
   "execution_count": 3,
   "metadata": {},
   "outputs": [],
   "source": [
    "# read midi file, convert it into the matrix representation, print as csv\n",
    "# when the met condition is true, the metadata needed for subsequence operatoins is written to file\n",
    "\n",
    "def generate_csv(filename, output_csv, met):\n",
    " mid = MidiFile(filename)\n",
    "     \n",
    " if mid.tracks[0][1].type == 'set_tempo': \n",
    "  tempo = mid.tracks[0][1].tempo\n",
    "  bpm = round(1000000*60/mid.tracks[0][1].tempo)\n",
    " else:\n",
    "  tempo = mid.tracks[0][2].tempo\n",
    "  bpm = round(1000000*60/mid.tracks[0][2].tempo)\n",
    " tpb = mid.ticks_per_beat\n",
    "\n",
    " # tolerances \n",
    " t_ptc = 0\n",
    " t_amp = round(127*5/100)\n",
    " t_dur = (60/bpm)*0.05\n",
    "\n",
    " seq = []\n",
    " track = mid.tracks[0]\n",
    " for i in range (0, len(track)):\n",
    "  if (track[i].type=='note_on'):        \n",
    "   if(track[i].time > 0):\n",
    "    ptc = 0\n",
    "    amp = 0\n",
    "    dur = mido.tick2second(track[i].time, tpb, tempo)\n",
    "    seq.append([ptc, amp, dur])        \n",
    "   ptc = track[i].note\n",
    "   amp = track[i].velocity\n",
    "   dur = mido.tick2second(track[i+1].time, tpb, tempo)\n",
    "   seq.append([ptc, amp, dur])\n",
    "\n",
    "   train_pat = np.asarray(seq)\n",
    "   with open(output_csv, mode='w', newline='') as f:\n",
    "    data_writer = csv.writer(f)    \n",
    "    for i in range(0, len(train_pat)):\n",
    "     tt = []\n",
    "     for j in range(0, len(train_pat[i])):\n",
    "      tt.append(train_pat[i][j])\n",
    "     data_writer.writerow(tt) \n",
    "\n",
    " if met == 1:\n",
    "  with open('data/metadata.csv', mode='w', newline='') as f:\n",
    "   data_writer = csv.writer(f)\n",
    "   data_writer.writerow([tempo])\n",
    "   data_writer.writerow([bpm])\n",
    "   data_writer.writerow([tpb])\n",
    "   data_writer.writerow([t_ptc])\n",
    "   data_writer.writerow([t_amp])\n",
    "   data_writer.writerow([t_dur])\n",
    "   data_writer.writerow([num_patterns])"
   ]
  },
  {
   "cell_type": "code",
   "execution_count": 4,
   "metadata": {},
   "outputs": [],
   "source": [
    "# call the function for the midi track, and each pattern\n",
    "# metadata parameter is only true for the midi track. It can be true for either \n",
    "\n",
    "generate_csv('midi/Nikolai Rimsky-Korsakov - Flight Of The Bumblebee.mid', 'data/test_data.csv', 1)\n",
    "generate_csv('midi/Nikolai Rimsky-Korsakov - Flight Of The Bumblebee-p1.mid', 'data/pat_0.csv', 0)\n",
    "generate_csv('midi/Nikolai Rimsky-Korsakov - Flight Of The Bumblebee-p2.mid', 'data/pat_1.csv', 0)\n",
    "generate_csv('midi/Nikolai Rimsky-Korsakov - Flight Of The Bumblebee-p3.mid', 'data/pat_2.csv', 0)"
   ]
  },
  {
   "cell_type": "code",
   "execution_count": null,
   "metadata": {},
   "outputs": [],
   "source": []
  }
 ],
 "metadata": {
  "kernelspec": {
   "display_name": "tensorflow",
   "language": "python",
   "name": "tensorflow"
  },
  "language_info": {
   "codemirror_mode": {
    "name": "ipython",
    "version": 3
   },
   "file_extension": ".py",
   "mimetype": "text/x-python",
   "name": "python",
   "nbconvert_exporter": "python",
   "pygments_lexer": "ipython3",
   "version": "3.8.5"
  }
 },
 "nbformat": 4,
 "nbformat_minor": 4
}
