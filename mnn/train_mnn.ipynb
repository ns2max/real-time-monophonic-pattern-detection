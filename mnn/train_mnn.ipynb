{
 "cells": [
  {
   "cell_type": "code",
   "execution_count": 1,
   "metadata": {},
   "outputs": [],
   "source": [
    "import numpy as np\n",
    "import csv\n",
    "import math\n",
    "import tensorflow as tf\n",
    "from tensorflow import keras\n",
    "import time\n",
    "from sklearn.model_selection import train_test_split"
   ]
  },
  {
   "cell_type": "code",
   "execution_count": 4,
   "metadata": {},
   "outputs": [],
   "source": [
    "num_patterns = 3"
   ]
  },
  {
   "cell_type": "code",
   "execution_count": 8,
   "metadata": {},
   "outputs": [
    {
     "name": "stdout",
     "output_type": "stream",
     "text": [
      "Epoch 1/5\n",
      "5/5 [==============================] - 0s 1ms/step - loss: 4.9533 - accuracy: 0.5282\n",
      "Epoch 2/5\n",
      "5/5 [==============================] - 0s 2ms/step - loss: 0.0297 - accuracy: 0.9859\n",
      "Epoch 3/5\n",
      "5/5 [==============================] - 0s 2ms/step - loss: 0.0531 - accuracy: 0.9859\n",
      "Epoch 4/5\n",
      "5/5 [==============================] - 0s 2ms/step - loss: 4.2642e-06 - accuracy: 1.0000\n",
      "Epoch 5/5\n",
      "5/5 [==============================] - 0s 2ms/step - loss: 5.6382e-06 - accuracy: 1.0000\n",
      "Epoch 1/5\n",
      "5/5 [==============================] - 0s 2ms/step - loss: 11.3177 - accuracy: 0.6056\n",
      "Epoch 2/5\n",
      "5/5 [==============================] - 0s 2ms/step - loss: 3.1687 - accuracy: 0.7817\n",
      "Epoch 3/5\n",
      "5/5 [==============================] - 0s 2ms/step - loss: 1.1660 - accuracy: 0.7958\n",
      "Epoch 4/5\n",
      "5/5 [==============================] - 0s 2ms/step - loss: 0.0340 - accuracy: 0.9859\n",
      "Epoch 5/5\n",
      "5/5 [==============================] - 0s 2ms/step - loss: 0.1038 - accuracy: 0.9859\n",
      "Epoch 1/5\n",
      "5/5 [==============================] - 0s 2ms/step - loss: 9.3726 - accuracy: 0.5845\n",
      "Epoch 2/5\n",
      "5/5 [==============================] - 0s 2ms/step - loss: 7.3373 - accuracy: 0.5493\n",
      "Epoch 3/5\n",
      "5/5 [==============================] - 0s 2ms/step - loss: 1.5049 - accuracy: 0.9225\n",
      "Epoch 4/5\n",
      "5/5 [==============================] - 0s 2ms/step - loss: 1.6507 - accuracy: 0.9225\n",
      "Epoch 5/5\n",
      "5/5 [==============================] - 0s 2ms/step - loss: 0.0234 - accuracy: 0.9930\n"
     ]
    }
   ],
   "source": [
    "## train neural network\n",
    "## constrcy the test data as a set of sequences with the appropriate number of notes - the length of the pattern is used here\n",
    "## evaluate the constructed sequence through the created model\n",
    "## save results to array\n",
    "\n",
    "results = []\n",
    "models = []\n",
    "\n",
    "for i in range (0, num_patterns):\n",
    "    training_data = []\n",
    "    training_labels = []       \n",
    "    \n",
    "    with open('data/train_data_p' + str(i) +'.csv') as csvfile:\n",
    "        rdr = csv.reader(csvfile, quoting=csv.QUOTE_NONNUMERIC)\n",
    "        for row in rdr:\n",
    "            training_data.append(row)\n",
    "\n",
    "    with open('data/train_labels_p' + str(i) +'.csv') as csvfile:\n",
    "        rdr = csv.reader(csvfile, quoting=csv.QUOTE_NONNUMERIC)\n",
    "        for row in rdr:\n",
    "            training_labels.append(row)\n",
    "            \n",
    "    train_data = np.asarray(training_data) \n",
    "    train_labels = np.asarray(training_labels) \n",
    "    train_labels = train_labels/np.max(train_labels)\n",
    "    \n",
    "    pat_len = len(train_data[0])\n",
    "    num_notes = int(pat_len/3)\n",
    "    \n",
    "    \n",
    "    \n",
    "    model = keras.Sequential([\n",
    "    #     keras.layers.Flatten(input_shape =(4, 4)),\n",
    "        keras.layers.Dense(pat_len, activation=tf.nn.relu),\n",
    "        keras.layers.Dense(2000, activation=tf.nn.relu),\n",
    "#         keras.layers.Dense(2000, activation=tf.nn.relu),\n",
    "#         keras.layers.Dense(2000, activation=tf.nn.relu),\n",
    "#         keras.layers.Dense(2000, activation=tf.nn.relu),\n",
    "#         keras.layers.Dense(2000, activation=tf.nn.relu),\n",
    "#         keras.layers.Dense(2000, activation=tf.nn.relu),\n",
    "#         keras.layers.Dense(2000, activation=tf.nn.relu),\n",
    "#         keras.layers.Dense(2000, activation=tf.nn.relu),\n",
    "        keras.layers.Dense(2, activation=tf.nn.softmax)\n",
    "    ])\n",
    "\n",
    "    model.compile(optimizer='adam',\n",
    "                  loss='sparse_categorical_crossentropy',\n",
    "                  metrics=['accuracy'])\n",
    "\n",
    "    model.fit(train_data, train_labels, epochs=5)\n",
    "#     model.fit(train_data, train_labels, epochs=5, callbacks=[callbacks])\n",
    " \n",
    "    modelname = 'models/mnn_' + str(i) + '.h5'\n",
    "\n",
    "    model.save(modelname, overwrite=True, include_optimizer=True, save_format=None, signatures=None, options=None)"
   ]
  },
  {
   "cell_type": "code",
   "execution_count": 9,
   "metadata": {},
   "outputs": [
    {
     "name": "stdout",
     "output_type": "stream",
     "text": [
      "[52.      80.       0.09375 51.      80.       0.09375 50.      80.\n",
      "  0.09375 49.      80.       0.09375 50.      80.       0.09375 49.\n",
      " 80.       0.09375 48.      80.       0.09375 47.      80.       0.09375\n",
      " 48.      80.       0.09375 49.      80.       0.09375 50.      80.\n",
      "  0.09375 51.      80.       0.09375 52.      80.       0.09375 53.\n",
      " 80.       0.09375 52.      80.       0.09375 51.      80.       0.09375]\n"
     ]
    }
   ],
   "source": [
    "print(train_data[0])"
   ]
  }
 ],
 "metadata": {
  "kernelspec": {
   "display_name": "tensorflow",
   "language": "python",
   "name": "tensorflow"
  },
  "language_info": {
   "codemirror_mode": {
    "name": "ipython",
    "version": 3
   },
   "file_extension": ".py",
   "mimetype": "text/x-python",
   "name": "python",
   "nbconvert_exporter": "python",
   "pygments_lexer": "ipython3",
   "version": "3.8.5"
  }
 },
 "nbformat": 4,
 "nbformat_minor": 4
}
