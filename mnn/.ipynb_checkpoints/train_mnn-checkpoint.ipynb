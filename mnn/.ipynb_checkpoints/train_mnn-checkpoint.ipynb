{
 "cells": [
  {
   "cell_type": "code",
   "execution_count": 4,
   "metadata": {},
   "outputs": [],
   "source": [
    "import numpy as np\n",
    "import csv\n",
    "import math\n",
    "import tensorflow as tf\n",
    "from tensorflow import keras\n",
    "import time\n",
    "from sklearn.model_selection import train_test_split"
   ]
  },
  {
   "cell_type": "code",
   "execution_count": 5,
   "metadata": {},
   "outputs": [],
   "source": [
    "# read metadata from file \n",
    "\n",
    "met = list(csv.reader(open('../data/metadata.csv')))\n",
    "num_patterns = int(met[6][0])"
   ]
  },
  {
   "cell_type": "code",
   "execution_count": 7,
   "metadata": {},
   "outputs": [],
   "source": [
    "## for each pattern\n",
    "##    read train data \n",
    "##    define, compile and train neural network\n",
    "##    save neural network to file\n",
    "\n",
    "models = []\n",
    "\n",
    "for i in range (0, num_patterns):\n",
    "    training_data = []\n",
    "    training_labels = []       \n",
    "    \n",
    "    with open('data/train_data_p' + str(i) +'.csv') as csvfile:\n",
    "        rdr = csv.reader(csvfile, quoting=csv.QUOTE_NONNUMERIC)\n",
    "        for row in rdr:\n",
    "            training_data.append(row)\n",
    "\n",
    "    with open('data/train_labels_p' + str(i) +'.csv') as csvfile:\n",
    "        rdr = csv.reader(csvfile, quoting=csv.QUOTE_NONNUMERIC)\n",
    "        for row in rdr:\n",
    "            training_labels.append(row)\n",
    "            \n",
    "    train_data = np.asarray(training_data) \n",
    "    train_labels = np.asarray(training_labels) \n",
    "    train_labels = train_labels/np.max(train_labels)\n",
    "    \n",
    "    pat_len = len(train_data[0])\n",
    "    num_notes = int(pat_len/3)  \n",
    "    \n",
    "    model = keras.Sequential([\n",
    "    #     keras.layers.Flatten(input_shape =(4, 4)),\n",
    "        keras.layers.Dense(pat_len, activation=tf.nn.relu),\n",
    "        keras.layers.Dense(2000, activation=tf.nn.relu),\n",
    "        keras.layers.Dense(2000, activation=tf.nn.relu),\n",
    "        keras.layers.Dense(2000, activation=tf.nn.relu),\n",
    "        keras.layers.Dense(2000, activation=tf.nn.relu),\n",
    "        keras.layers.Dense(2000, activation=tf.nn.relu),\n",
    "        keras.layers.Dense(2000, activation=tf.nn.relu),\n",
    "        keras.layers.Dense(2000, activation=tf.nn.relu),\n",
    "        keras.layers.Dense(2000, activation=tf.nn.relu),\n",
    "        keras.layers.Dense(2, activation=tf.nn.softmax)\n",
    "    ])\n",
    "\n",
    "    model.compile(optimizer='adam',\n",
    "                  loss='sparse_categorical_crossentropy',\n",
    "                  metrics=['accuracy'])\n",
    "\n",
    "    model.fit(train_data, train_labels, epochs=5)\n",
    "#     model.fit(train_data, train_labels, epochs=5, callbacks=[callbacks])\n",
    " \n",
    "    modelname = 'models/mnn_' + str(i) + '.h5'\n",
    "    model.save(modelname, overwrite=True, include_optimizer=True, save_format=None, signatures=None, options=None)"
   ]
  },
  {
   "cell_type": "code",
   "execution_count": null,
   "metadata": {},
   "outputs": [],
   "source": []
  }
 ],
 "metadata": {
  "kernelspec": {
   "display_name": "tensorflow",
   "language": "python",
   "name": "tensorflow"
  },
  "language_info": {
   "codemirror_mode": {
    "name": "ipython",
    "version": 3
   },
   "file_extension": ".py",
   "mimetype": "text/x-python",
   "name": "python",
   "nbconvert_exporter": "python",
   "pygments_lexer": "ipython3",
   "version": "3.8.5"
  }
 },
 "nbformat": 4,
 "nbformat_minor": 4
}
