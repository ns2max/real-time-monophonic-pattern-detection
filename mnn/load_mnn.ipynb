{
 "cells": [
  {
   "cell_type": "code",
   "execution_count": 1,
   "metadata": {},
   "outputs": [],
   "source": [
    "import numpy as np\n",
    "import csv\n",
    "import math\n",
    "import tensorflow as tf\n",
    "from tensorflow import keras\n",
    "import time\n",
    "from tensorflow.keras.models import load_model\n",
    "import itertools"
   ]
  },
  {
   "cell_type": "code",
   "execution_count": 2,
   "metadata": {},
   "outputs": [],
   "source": [
    "## load models\n",
    "##--------------------------------------------------------------\n",
    "## THIS CELL NEEDS A USER INPUT - number of models and inpuit lengths\n",
    "##--------------------------------------------------------------\n",
    "\n",
    "model_0 = load_model('models/mnn_0.h5')\n",
    "model_1 = load_model('models/mnn_1.h5')\n",
    "model_2 = load_model('models/mnn_2.h5')\n",
    "\n",
    "model_0_input_layer_len = model_0.input.shape[1]\n",
    "model_1_input_layer_len = model_1.input.shape[1]\n",
    "model_2_input_layer_len = model_2.input.shape[1]"
   ]
  },
  {
   "cell_type": "code",
   "execution_count": 3,
   "metadata": {},
   "outputs": [],
   "source": [
    "# read test data \n",
    "\n",
    "test_data = []\n",
    "with open('../data/test_data.csv') as csvfile:\n",
    "    rdr = csv.reader(csvfile, quoting=csv.QUOTE_NONNUMERIC)\n",
    "    for row in rdr:\n",
    "        test_data.append(row)"
   ]
  },
  {
   "cell_type": "code",
   "execution_count": 4,
   "metadata": {},
   "outputs": [],
   "source": [
    "# construct sub sequences form the data stream, with the collect size, to be passed into each neural network\n",
    "# check for matches, append the answer to res_0, res_1 and res_2\n",
    "##--------------------------------------------------------------\n",
    "## THIS CELL NEEDS A USER INPUT - number of result arrays\n",
    "##--------------------------------------------------------------\n",
    "\n",
    "\n",
    "res_0 = []\n",
    "res_1 = []\n",
    "res_2 = []\n",
    "\n",
    "for i in range (0, len(test_data)):\n",
    " if(len(test_data)-i >= int(model_0_input_layer_len/3)):\n",
    "  nn_in_0 = test_data[i:i+int(model_0_input_layer_len/3)]\n",
    "  nn_in_0 = list(itertools.chain(*nn_in_0))\n",
    "  nn_in_0 = np.asarray([nn_in_0])\n",
    "  r_0 = model_0.predict(nn_in_0)\n",
    "  res_0.append(np.argmax(r_0))\n",
    "  \n",
    " if(len(test_data)-i >= int(model_1_input_layer_len/3)):\n",
    "  nn_in_1 = test_data[i:i+int(model_1_input_layer_len/3)]\n",
    "  nn_in_1 = list(itertools.chain(*nn_in_1))\n",
    "  nn_in_1 = np.asarray([nn_in_1])\n",
    "  r_1 = model_0.predict(nn_in_1)\n",
    "  res_1.append(np.argmax(r_1))\n",
    "  \n",
    " if(len(test_data)-i >= int(model_2_input_layer_len/3)):\n",
    "  nn_in_2 = test_data[i:i+int(model_2_input_layer_len/3)]\n",
    "  nn_in_2 = list(itertools.chain(*nn_in_2))\n",
    "  nn_in_2 = np.asarray([nn_in_2])\n",
    "  r_2 = model_0.predict(nn_in_2)\n",
    "  res_2.append(np.argmax(r_2))"
   ]
  },
  {
   "cell_type": "code",
   "execution_count": 6,
   "metadata": {},
   "outputs": [],
   "source": [
    "print(res_0)\n",
    "print(res_1)\n",
    "print(res_2)"
   ]
  }
 ],
 "metadata": {
  "kernelspec": {
   "display_name": "tensorflow",
   "language": "python",
   "name": "tensorflow"
  },
  "language_info": {
   "codemirror_mode": {
    "name": "ipython",
    "version": 3
   },
   "file_extension": ".py",
   "mimetype": "text/x-python",
   "name": "python",
   "nbconvert_exporter": "python",
   "pygments_lexer": "ipython3",
   "version": "3.8.5"
  }
 },
 "nbformat": 4,
 "nbformat_minor": 4
}
