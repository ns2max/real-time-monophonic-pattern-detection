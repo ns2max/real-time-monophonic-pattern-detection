{
 "cells": [
  {
   "cell_type": "code",
   "execution_count": 12,
   "metadata": {},
   "outputs": [],
   "source": [
    "import numpy as np\n",
    "import csv\n",
    "import math\n",
    "import tensorflow as tf\n",
    "from tensorflow import keras\n",
    "import time\n",
    "from tensorflow.keras.models import load_model\n",
    "import itertools\n",
    "import random"
   ]
  },
  {
   "cell_type": "code",
   "execution_count": 5,
   "metadata": {},
   "outputs": [],
   "source": [
    "# load model \n",
    "\n",
    "model = load_model('models/snn.h5')\n",
    "input_layer_len = model.input.shape[1]"
   ]
  },
  {
   "cell_type": "code",
   "execution_count": 26,
   "metadata": {},
   "outputs": [],
   "source": [
    "# read test data \n",
    "\n",
    "test_data = []\n",
    "with open('../data/test_data.csv') as csvfile:\n",
    " rdr = csv.reader(csvfile, quoting=csv.QUOTE_NONNUMERIC)\n",
    " for row in rdr:\n",
    "  test_data.append(row)"
   ]
  },
  {
   "cell_type": "code",
   "execution_count": 27,
   "metadata": {},
   "outputs": [],
   "source": [
    "## shortest pattern length of 3. Append the necessary amount of notes at the end so that the last 3 notes will be used \n",
    "## this is done as the shorer patterns are padded at the end\n",
    "\n",
    "for i in range(0, int((input_layer_len/4)-3)):\n",
    " test_data.append(test_data[random.randint(0, len(test_data))])     "
   ]
  },
  {
   "cell_type": "code",
   "execution_count": 7,
   "metadata": {},
   "outputs": [],
   "source": [
    "# construct sub sequences form the data stream, pass them through the neural network to check for a match\n",
    "# results are appended to res\n",
    "\n",
    "res = []\n",
    "for i in range (0, len(test_data)):\n",
    " if(len(test_data)-i >= int(input_layer_len/3)):\n",
    "  nn_in = test_data[i:i+int(input_layer_len/3)]\n",
    "  nn_in = list(itertools.chain(*nn_in))\n",
    "  nn_in = np.asarray([nn_in])\n",
    "  r = model.predict(nn_in)\n",
    "  res.append(np.argmax(r))\n"
   ]
  },
  {
   "cell_type": "code",
   "execution_count": 11,
   "metadata": {},
   "outputs": [],
   "source": [
    "for i in range(0, len(res)):\n",
    "    print(res[i], end=\" \")"
   ]
  },
  {
   "cell_type": "code",
   "execution_count": null,
   "metadata": {},
   "outputs": [],
   "source": []
  }
 ],
 "metadata": {
  "kernelspec": {
   "display_name": "tensorflow",
   "language": "python",
   "name": "tensorflow"
  },
  "language_info": {
   "codemirror_mode": {
    "name": "ipython",
    "version": 3
   },
   "file_extension": ".py",
   "mimetype": "text/x-python",
   "name": "python",
   "nbconvert_exporter": "python",
   "pygments_lexer": "ipython3",
   "version": "3.8.5"
  }
 },
 "nbformat": 4,
 "nbformat_minor": 4
}
