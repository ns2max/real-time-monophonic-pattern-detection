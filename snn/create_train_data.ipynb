{
 "cells": [
  {
   "cell_type": "code",
   "execution_count": 15,
   "metadata": {},
   "outputs": [],
   "source": [
    "import numpy as np\n",
    "import random\n",
    "import csv"
   ]
  },
  {
   "cell_type": "code",
   "execution_count": 16,
   "metadata": {},
   "outputs": [],
   "source": [
    "# specify number of positive and negative samples\n",
    "\n",
    "num_positive = 50000\n",
    "num_negative = 500000"
   ]
  },
  {
   "cell_type": "code",
   "execution_count": 17,
   "metadata": {},
   "outputs": [],
   "source": [
    "# read metadata from file \n",
    "# tempo, bpm, ticks per beat, pitch tolerance, amplitude tolerance, duration tolerance, number of patterns\n",
    "\n",
    "met = list(csv.reader(open('../data/metadata.csv')))\n",
    "tempo = int(met[0][0])\n",
    "bpm = int(met[1][0])\n",
    "tpb = int(met[2][0])\n",
    "t_ptc =int(met[3][0])\n",
    "t_amp = int(met[4][0])\n",
    "t_dur = float(met[5][0])\n",
    "num_patterns = int(met[6][0])"
   ]
  },
  {
   "cell_type": "code",
   "execution_count": 18,
   "metadata": {},
   "outputs": [],
   "source": [
    "# read the patterns from file. construct labels for patterns\n",
    "\n",
    "pat = []\n",
    "lbl = []\n",
    "for i in range (0, num_patterns):\n",
    " lbl.append(i+1)\n",
    " patfile = '../data/pat_' + str(i) + '.csv'\n",
    " pt = []\n",
    " with open(patfile) as csvfile:\n",
    "  rdr = csv.reader(csvfile, quoting=csv.QUOTE_NONNUMERIC)\n",
    "  for row in rdr:\n",
    "   pt.append(row)\n",
    " pat.append(pt)"
   ]
  },
  {
   "cell_type": "code",
   "execution_count": 19,
   "metadata": {},
   "outputs": [],
   "source": [
    "##find longerst pattern and normalize length)\n",
    "\n",
    "longest_len = len(max(pat, key=len))\n",
    "pat_equalized = np.copy(pat)\n",
    "for i in range(0, len(pat_equalized)):\n",
    " for j in range(0, longest_len - len(pat_equalized[i])):\n",
    "  pat_equalized[i].append([999, 999, 999])"
   ]
  },
  {
   "cell_type": "code",
   "execution_count": 20,
   "metadata": {},
   "outputs": [],
   "source": [
    "# function to create random positive dataset notes\n",
    "\n",
    "def rand_pos(val, delta, lower, upper, flag):\n",
    " if(flag == 0):\n",
    "  res = 0\n",
    "  if(val-delta > lower and val+delta < upper):\n",
    "   res = random.randint(val-delta, val+delta)   \n",
    "  elif(val-delta <= lower):\n",
    "   res = random.randint(lower, val+delta)\n",
    "  elif(val+delta >= upper):\n",
    "   res = random.randint(val-delta, upper)   \n",
    " if(flag == 1):\n",
    "  res = 0\n",
    "  if(val-delta > lower and val+delta < upper):\n",
    "   res = random.uniform(val-delta, val+delta)   \n",
    "  elif(val-delta <= lower):\n",
    "   res = random.uniform(lower, val+delta)   \n",
    "  elif(val+delta >= upper):\n",
    "   res = random.uniform(val-delta, upper)   \n",
    " res = round(res, 2)\n",
    " return res"
   ]
  },
  {
   "cell_type": "code",
   "execution_count": 22,
   "metadata": {},
   "outputs": [],
   "source": [
    "# function to create random negative dataset notes\n",
    "\n",
    "def rand_neg(val, delta, lower, upper, flag):\n",
    " if(flag == 0):  \n",
    "  if(val-delta <= lower):\n",
    "   res = random.randint(val+delta, upper)\n",
    "  elif(val+delta >= upper):\n",
    "   res = random.randint(lower, val-delta)\n",
    "  else:\n",
    "   rangechoices = ((lower,val-delta), (val+delta, upper))\n",
    "   fromrange = random.choice(rangechoices)\n",
    "   res = random.randint(*fromrange)   \n",
    " if(flag == 1):  \n",
    "  if(val-delta <= lower):\n",
    "   res = random.uniform(val+delta, upper)\n",
    "  elif(val+delta >= upper):\n",
    "   res = random.uniform(lower, val-delta)\n",
    "  else:\n",
    "   rangechoices = ((lower,val-delta), (val+delta, upper))\n",
    "   fromrange = random.choice(rangechoices)\n",
    "   res = random.uniform(*fromrange)   \n",
    " res = round(res, 2)\n",
    " return res"
   ]
  },
  {
   "cell_type": "code",
   "execution_count": 23,
   "metadata": {},
   "outputs": [],
   "source": [
    "#creating positive variantspatterns\n",
    "\n",
    "def create_pos(patt, lbll, dst_pat, dst_lbl): \n",
    " for j in range(0, num_positive):\n",
    "  tmp = []\n",
    "  for i in range (0, len(patt)):\n",
    "   ptc_i = patt[i][0]\n",
    "   amp_i = rand_pos(patt[i][1], t_amp, 0, 127, 0)\n",
    "   dur_i = rand_pos(patt[i][2], t_dur, 0, 2.0, 1)\n",
    "\n",
    "   tmp.append([ptc_i, amp_i, dur_i])\n",
    "\n",
    "  dst_pat.append(tmp)  \n",
    "  dst_lbl.append(lbll)"
   ]
  },
  {
   "cell_type": "code",
   "execution_count": 24,
   "metadata": {},
   "outputs": [],
   "source": [
    "#create amplitude variations from +-1 to +-20\n",
    "\n",
    "def ampl(patt, lbll, dst_pat, dst_lbl):\n",
    " for j in range(-20, 21):\n",
    "  tmp = []\n",
    "  for i in range (0, len(patt)):\n",
    "   ptc_i = patt[i][0]\n",
    "   amp_i = patt[i][1] - j\n",
    "   dur_i = patt[i][2]\n",
    "   \n",
    "   tmp.append([ptc_i, amp_i, dur_i])\n",
    "\n",
    "  dst_pat.append(tmp)  \n",
    "  dst_lbl.append(lbll)"
   ]
  },
  {
   "cell_type": "code",
   "execution_count": 10,
   "metadata": {},
   "outputs": [],
   "source": [
    "# # create negative patterns \n",
    "\n",
    "# def create_neg(patt, lbll, dst_pat, dst_lbl):\n",
    "#  for j in range(0, num_negative):\n",
    "#   tmp = []\n",
    "#   for i in range (0, len(patt)):\n",
    "#    ptc_i = rand_neg(patt[i][0], t_ptc, 0, 127, 0)\n",
    "#    amp_i = rand_neg(patt[i][1], t_amp, 0, 127, 0)\n",
    "#    dur_i = rand_neg(patt[i][2], t_dur, 0, 2.0, 1)\n",
    "\n",
    "#    tmp.append([ptc_i, amp_i, dur_i])\n",
    "\n",
    "#   dst_pat.append(tmp)  \n",
    "#   dst_lbl.append(0)"
   ]
  },
  {
   "cell_type": "code",
   "execution_count": 11,
   "metadata": {},
   "outputs": [],
   "source": [
    "# create positive pattersn and labels\n",
    "# create amplitud evariations for positive patterns\n",
    "\n",
    "pos_pat = []\n",
    "pos_lbl = []\n",
    "\n",
    "for ii in range (0, len(pat_equalized)):\n",
    "# for ii in range (0, 1):\n",
    " pt = pat_equalized[ii]\n",
    " \n",
    " pos_tmp = []\n",
    " varient = False\n",
    " \n",
    " for i in range (0, len(pt)):\n",
    "  if pt[i][0]==999 and pt[i][1]==999 and pt[i][2]==999:\n",
    "   varient = True\n",
    " \n",
    " if varient == True:\n",
    "  ##10 variants for padded digit\n",
    "  for i in range (0, 10):\n",
    "   pat_tmp = []\n",
    "   for i in range(0, len(pt)):\n",
    "    if pt[i][0]==999 and pt[i][1]==999 and pt[i][2]==999:\n",
    "     n = [random.randint(0,127), \n",
    "          random.randint(0,127), \n",
    "          round(random.uniform(0,2.0), 2)]\n",
    "     pat_tmp.append(n)\n",
    "    else:\n",
    "     pat_tmp.append(pt[i])   \n",
    "   pos_tmp.append(pat_tmp)\n",
    " else:\n",
    "  pos_tmp.append(pt)\n",
    "  \n",
    "\n",
    " for i in range(0, len(pos_tmp)):\n",
    "  create_pos(pos_tmp[i], lbl[ii], pos_pat, pos_lbl)\n",
    "  ampl(pos_tmp[i], lbl[ii], pos_pat, pos_lbl)"
   ]
  },
  {
   "cell_type": "code",
   "execution_count": 12,
   "metadata": {},
   "outputs": [],
   "source": [
    "# create negative patterns with 0 label\n",
    "\n",
    "neg_pat = []\n",
    "neg_lbl = []\n",
    "\n",
    "#create negative variants\n",
    "def create_neg(patt, lbl):\n",
    " for j in range(0, num_negative*2):\n",
    "  tmp = []\n",
    "  for i in range (0, len(patt)):\n",
    "\n",
    "   ptc_i = rand_neg(patt[i][0], t_ptc, 0, 127, 0)\n",
    "   amp_i = rand_neg(patt[i][1], t_amp, 0, 127, 0)\n",
    "   dur_i = rand_neg(patt[i][2], t_dur, 0, 2.0, 1)\n",
    "\n",
    "   tmp.append([ptc_i, amp_i, dur_i])\n",
    "\n",
    "  neg_pat.append(tmp)  \n",
    "  neg_lbl.append(lbl)\n",
    "\n",
    "  \n",
    "for i in range(0, len(pat_equalized)):\n",
    " create_neg(pat_equalized[i], 0)"
   ]
  },
  {
   "cell_type": "code",
   "execution_count": 13,
   "metadata": {},
   "outputs": [],
   "source": [
    "# conbile the positive and negative pattersn to create a single dataset \n",
    "\n",
    "train_pat = pos_pat + neg_pat\n",
    "train_lbl = pos_lbl + neg_lbl"
   ]
  },
  {
   "cell_type": "code",
   "execution_count": 14,
   "metadata": {},
   "outputs": [],
   "source": [
    "# write to file\n",
    "\n",
    "with open('data/train_data.csv', mode='w', newline='') as f:\n",
    " data_writer = csv.writer(f) \n",
    " for i in range(0, len(train_pat)):\n",
    "  tmp = np.asarray(train_pat[i])\n",
    "  tt = []\n",
    "  for j in range(0, len(tmp)):\n",
    "   for k in range(0, len(tmp[j])):\n",
    "    tt.append(tmp[j][k])\n",
    "  data_writer.writerow(tt)\n",
    "  \n",
    "   \n",
    "with open('data/train_labels.csv', mode='w', newline='') as f:\n",
    " data_writer = csv.writer(f) \n",
    " for i in range(0, len(train_lbl)):\n",
    "  tt = []\n",
    "  tt.append(train_lbl[i])\n",
    "  data_writer.writerow(tt)"
   ]
  },
  {
   "cell_type": "code",
   "execution_count": null,
   "metadata": {},
   "outputs": [],
   "source": []
  }
 ],
 "metadata": {
  "kernelspec": {
   "display_name": "tensorflow",
   "language": "python",
   "name": "tensorflow"
  },
  "language_info": {
   "codemirror_mode": {
    "name": "ipython",
    "version": 3
   },
   "file_extension": ".py",
   "mimetype": "text/x-python",
   "name": "python",
   "nbconvert_exporter": "python",
   "pygments_lexer": "ipython3",
   "version": "3.8.5"
  }
 },
 "nbformat": 4,
 "nbformat_minor": 4
}
