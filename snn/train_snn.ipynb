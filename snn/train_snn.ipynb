{
 "cells": [
  {
   "cell_type": "code",
   "execution_count": 2,
   "metadata": {},
   "outputs": [],
   "source": [
    "import numpy as np\n",
    "import csv\n",
    "import math\n",
    "import tensorflow as tf\n",
    "from tensorflow import keras\n",
    "import time\n",
    "from sklearn.model_selection import train_test_split"
   ]
  },
  {
   "cell_type": "code",
   "execution_count": 3,
   "metadata": {},
   "outputs": [],
   "source": [
    "## import training data and labels from file\n",
    "training_data = []\n",
    "training_labels = []        \n",
    "        \n",
    "with open('data/train_data.csv') as csvfile:\n",
    " rdr = csv.reader(csvfile, quoting=csv.QUOTE_NONNUMERIC)\n",
    " for row in rdr:\n",
    "  training_data.append(row)\n",
    "\n",
    "with open('data/train_labels.csv') as csvfile:\n",
    " rdr = csv.reader(csvfile, quoting=csv.QUOTE_NONNUMERIC)\n",
    " for row in rdr:\n",
    "  training_labels.append(row)\n",
    "        \n",
    "train_data = np.asarray(training_data) \n",
    "train_labels = np.asarray(training_labels) "
   ]
  },
  {
   "cell_type": "code",
   "execution_count": 4,
   "metadata": {},
   "outputs": [],
   "source": [
    "# 80/20 train test split\n",
    "\n",
    "input_layer_len = len(train_data[0])\n",
    "x_train, x_test, y_train, y_test = train_test_split(train_data, train_labels, test_size=0.2, random_state=4)"
   ]
  },
  {
   "cell_type": "code",
   "execution_count": 5,
   "metadata": {},
   "outputs": [],
   "source": [
    "# define model\n",
    "\n",
    "model = keras.Sequential([\n",
    " keras.layers.Dense(input_layer_len, activation=tf.nn.relu),\n",
    " keras.layers.Dense(2000, activation=tf.nn.relu),\n",
    " keras.layers.Dense(2000, activation=tf.nn.relu),\n",
    " keras.layers.Dense(2000, activation=tf.nn.relu),\n",
    " keras.layers.Dense(2000, activation=tf.nn.relu),\n",
    " keras.layers.Dense(2000, activation=tf.nn.relu),\n",
    " keras.layers.Dense(2000, activation=tf.nn.relu),\n",
    " keras.layers.Dense(2000, activation=tf.nn.relu),\n",
    " keras.layers.Dense(2000, activation=tf.nn.relu),\n",
    " keras.layers.Dense(11, activation=tf.nn.softmax)\n",
    "])"
   ]
  },
  {
   "cell_type": "code",
   "execution_count": 6,
   "metadata": {},
   "outputs": [],
   "source": [
    "# compile model\n",
    "\n",
    "model.compile(optimizer='adam',\n",
    " loss='sparse_categorical_crossentropy',\n",
    " metrics=['sparse_categorical_accuracy'])\n",
    " # metrics=['accuracy']) \n",
    " #accuracy has a bug where the loaded saved model loses accuracy"
   ]
  },
  {
   "cell_type": "code",
   "execution_count": 8,
   "metadata": {},
   "outputs": [],
   "source": [
    "# training\n",
    "\n",
    "model.fit(x_train, y_train, epochs=5)"
   ]
  },
  {
   "cell_type": "code",
   "execution_count": 11,
   "metadata": {},
   "outputs": [],
   "source": [
    "# evaluate\n",
    "\n",
    "loss, acc = model.evaluate(x_test, y_test)\n",
    "print(acc, loss)"
   ]
  },
  {
   "cell_type": "code",
   "execution_count": 12,
   "metadata": {},
   "outputs": [],
   "source": [
    "#save model to file\n",
    "\n",
    "model.save(\"models/snn.h5\", overwrite=True, include_optimizer=True, save_format=None, signatures=None, options=None)"
   ]
  },
  {
   "cell_type": "code",
   "execution_count": null,
   "metadata": {},
   "outputs": [],
   "source": []
  }
 ],
 "metadata": {
  "kernelspec": {
   "display_name": "tensorflow",
   "language": "python",
   "name": "tensorflow"
  },
  "language_info": {
   "codemirror_mode": {
    "name": "ipython",
    "version": 3
   },
   "file_extension": ".py",
   "mimetype": "text/x-python",
   "name": "python",
   "nbconvert_exporter": "python",
   "pygments_lexer": "ipython3",
   "version": "3.8.5"
  }
 },
 "nbformat": 4,
 "nbformat_minor": 4
}
