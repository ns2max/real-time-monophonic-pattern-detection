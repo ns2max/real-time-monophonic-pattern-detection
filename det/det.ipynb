{
 "cells": [
  {
   "cell_type": "code",
   "execution_count": 1,
   "metadata": {},
   "outputs": [],
   "source": [
    "import numpy as np\n",
    "import csv\n",
    "import math"
   ]
  },
  {
   "cell_type": "code",
   "execution_count": 2,
   "metadata": {},
   "outputs": [],
   "source": [
    "# read metadata from file \n",
    "# tempo, bpm, ticks per beat, pitch tolerance, amplitude tolerance, duration tolerance, number of patterns\n",
    "\n",
    "met = list(csv.reader(open('../data/metadata.csv')))\n",
    "tempo = int(met[0][0])\n",
    "bpm = int(met[1][0])\n",
    "tpb = int(met[2][0])\n",
    "t_ptc =int(met[3][0])\n",
    "t_amp = int(met[4][0])\n",
    "t_dur = float(met[5][0])\n",
    "num_patterns = int(met[6][0])"
   ]
  },
  {
   "cell_type": "code",
   "execution_count": 4,
   "metadata": {},
   "outputs": [],
   "source": [
    "# read the patterns from file. construct labels for patterns\n",
    "\n",
    "pat = []\n",
    "lbl = []\n",
    "for i in range (0, num_patterns):\n",
    " lbl.append(i+1)\n",
    " patfile = '../data/pat_' + str(i) + '.csv'\n",
    " pt = []\n",
    " with open(patfile) as csvfile:\n",
    "  rdr = csv.reader(csvfile, quoting=csv.QUOTE_NONNUMERIC)\n",
    "  for row in rdr:\n",
    "   pt.append(row)\n",
    " pat.append(pt)"
   ]
  },
  {
   "cell_type": "code",
   "execution_count": 4,
   "metadata": {},
   "outputs": [],
   "source": [
    "# read csv file of the midi data in matrix format\n",
    "\n",
    "test_data = []\n",
    "with open('../data/test_data.csv') as csvfile:\n",
    " rdr = csv.reader(csvfile, quoting=csv.QUOTE_NONNUMERIC)\n",
    " for row in rdr:\n",
    "  test_data.append(row)"
   ]
  },
  {
   "cell_type": "code",
   "execution_count": 5,
   "metadata": {},
   "outputs": [],
   "source": [
    "# function to check if the pattern lieh within specified boundatries\n",
    "def check_pat(pat_in, pat_ref):\n",
    " res = 0\n",
    " if len(pat_in) == len(pat_ref):        \n",
    "  for i in range (0, len(pat_in)):\n",
    "   if ((pat_in[i][0] >= pat_ref[i][0]-t_ptc) and (pat_in[i][0] <= pat_ref[i][0]+t_ptc)): \n",
    "     res = res+1\n",
    "   if ((pat_in[i][1] >= pat_ref[i][1]-t_amp) and (pat_in[i][1] <= pat_ref[i][1]+t_amp)): \n",
    "    res = res+1\n",
    "   if ((pat_in[i][2] >= pat_ref[i][2]-t_dur) and (pat_in[i][2] <= pat_ref[i][2]+t_dur)): \n",
    "    res = res+1\n",
    " if res == len(pat_ref)*3:\n",
    "  return 1\n",
    " else:\n",
    "  return 0"
   ]
  },
  {
   "cell_type": "code",
   "execution_count": 6,
   "metadata": {},
   "outputs": [],
   "source": [
    "# construct sub sequences form the data stream, pass them through the function to check for a match\n",
    "# results are appended to res\n",
    "\n",
    "res = []\n",
    "for i in range (0, len(test_data)):\n",
    " p = 0\n",
    " for j in range(0, len(pat)):\n",
    "  pt = [] \n",
    "  if (len(test_data)-i) >= len(pat[j]):\n",
    "   for k in range (0, len(pat[j])):\n",
    "    pt.append(test_data[i+k]) \n",
    "  if check_pat(pt, pat[j])==1:\n",
    "   p = j+1\n",
    " res.append(p)"
   ]
  },
  {
   "cell_type": "code",
   "execution_count": 5,
   "metadata": {},
   "outputs": [],
   "source": [
    "print(res)"
   ]
  },
  {
   "cell_type": "code",
   "execution_count": null,
   "metadata": {},
   "outputs": [],
   "source": []
  }
 ],
 "metadata": {
  "kernelspec": {
   "display_name": "tensorflow",
   "language": "python",
   "name": "tensorflow"
  },
  "language_info": {
   "codemirror_mode": {
    "name": "ipython",
    "version": 3
   },
   "file_extension": ".py",
   "mimetype": "text/x-python",
   "name": "python",
   "nbconvert_exporter": "python",
   "pygments_lexer": "ipython3",
   "version": "3.8.5"
  }
 },
 "nbformat": 4,
 "nbformat_minor": 4
}
